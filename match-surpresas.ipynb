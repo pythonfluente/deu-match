{
 "cells": [
  {
   "cell_type": "markdown",
   "id": "6f519b7d-780e-4a58-b459-8a3b4ae0bde8",
   "metadata": {},
   "source": [
    "# A surpreendente instrução `match`\n",
    "\n",
    "## Terminologia\n",
    "\n",
    "A instrução `match` recebe uma expressão, chamada **sujeito**.\n",
    "\n",
    "Cada cláusula `case` define um **padrão** e um bloco de código."
   ]
  },
  {
   "cell_type": "code",
   "execution_count": 1,
   "id": "2a87e002-2174-4819-bd8c-5c8f46e1f5dd",
   "metadata": {},
   "outputs": [
    {
     "name": "stdout",
     "output_type": "stream",
     "text": [
      "caso 0: 42\n",
      "\tsujeito == 42\n",
      "caso 1: ('OK', 200)\n",
      "\tx=200\n",
      "caso 2: [60, 45]\n",
      "\ta=60 b=45\n",
      "caso 3: {'peso': 70.0}\n",
      "\tp=70.0\n",
      "caso 4: 3.3j\n",
      "\ty=3.3\n",
      "caso coringa: {'peso': 3}\n"
     ]
    }
   ],
   "source": [
    "sujeito = 4j\n",
    "\n",
    "def analisar(sujeito):\n",
    "    \n",
    "    match sujeito:\n",
    "    \n",
    "        case 42:  # padrão: constante\n",
    "            print('caso 0: 42\\n\\tsujeito == 42')\n",
    "    \n",
    "        case ['OK', x]:  # padrão: sequência de 'OK' mais um item qualquer\n",
    "            \n",
    "            print(f'caso 1: {sujeito}\\n\\t{x=}')\n",
    "            \n",
    "        case [int(a), int(b)]: # padrão: sequência formada dois inteiros\n",
    "            \n",
    "            print(f'caso 2: {sujeito}\\n\\t{a=} {b=}')\n",
    "            \n",
    "        case {'peso': float(p)}:  # padrão: qualquer mapeamento com uma chave `'peso'` associada a um float \n",
    "            \n",
    "            print(f'caso 3: {sujeito}\\n\\t{p=}')\n",
    "            \n",
    "        case complex(real=0, imag=y):  # padrão: número imaginário (real=0)\n",
    "            \n",
    "            print(f'caso 4: {sujeito}\\n\\t{y=}')\n",
    "            \n",
    "        case _:\n",
    "            \n",
    "            print(f'caso coringa: {sujeito}')\n",
    "\n",
    "\n",
    "for sujeito in [\n",
    "    42,\n",
    "    ('OK', 200),\n",
    "    [60, 45],\n",
    "    {'peso': 70.},\n",
    "    3.3j,\n",
    "    {'peso': 3},\n",
    "]:\n",
    "    analisar(sujeito)"
   ]
  },
  {
   "cell_type": "markdown",
   "id": "21f55695-ddec-4580-8de7-ff149212df62",
   "metadata": {},
   "source": [
    "## Funcionamento\n",
    "\n",
    "Python compara o **sujeito** ao **padrão** em cada `case`.\n",
    "\n",
    "Assim que encontra um padrão correspondente, Python executa o bloco daquele `case`.\n",
    "\n",
    "Se o padrão tem variáveis, elas são atribuidas como variáveis locais no bloco.\n",
    "\n",
    "Quando um padrão corresponde, só aquele `case` é executado. Os seguintes são ignorados.\n",
    "\n",
    "Se nenhum padrão corresponde, nada acontece (como um `while False:`).\n",
    "\n",
    "## Estrutura de um padrão\n",
    "\n",
    "Um padrão pode ser formado por:\n",
    "\n",
    "* sequências;\n",
    "* mapeamentos;\n",
    "* instâncias;\n",
    "* alternativas separadas por `|`;\n",
    "* variáveis;\n",
    "* coringa `_`.\n",
    "\n",
    "## Comparação com `switch`\n",
    "\n",
    "A instrução `match` pode ser usada para comparar o **sujeito** a valores literais simples, como um `switch` em outras linguagens. \n",
    "\n",
    "Porém, cada **padrão** pode representar uma estrutura complexa,\n",
    "contendo variáveis no lugar de algumas partes.\n",
    "Através dessas variáveis podemos obter partes do **sujeito** declarativamente,\n",
    "sem escrever código para navegar pela estrutura proc\n",
    "\n",
    "Chama-se **desestruturar** o ato de obter as partes da estrutura do **sujeito**.\n"
   ]
  },
  {
   "cell_type": "markdown",
   "id": "a54ae17c-af2d-438e-a8af-c20c798e85c2",
   "metadata": {},
   "source": [
    "## Padrões sequência\n",
    "\n",
    "### Exemplo: registros de cidades\n",
    "\n",
    "Esse exemplo mostra a desestruturação de sequências aninhadas (sequências dentro de sequências)."
   ]
  },
  {
   "cell_type": "code",
   "execution_count": 2,
   "id": "92a749da-6023-442b-b64e-8b0312592ea4",
   "metadata": {},
   "outputs": [
    {
     "name": "stdout",
     "output_type": "stream",
     "text": [
      "                |  latitude | longitude\n",
      "Mexico City     |   19.4333 |  -99.1333\n",
      "New York-Newark |   40.8086 |  -74.0204\n",
      "São Paulo       |  -23.5478 |  -46.6358\n"
     ]
    }
   ],
   "source": [
    "metro_areas = [\n",
    "    ('Tokyo', 'JP', 36.933, (35.689722, 139.691667)),\n",
    "    ('Delhi NCR', 'IN', 21.935, (28.613889, 77.208889)),\n",
    "    ('Mexico City', 'MX', 20.142, (19.433333, -99.133333)),\n",
    "    ('New York-Newark', 'US', 20.104, (40.808611, -74.020386)),\n",
    "    ('São Paulo', 'BR', 19.649, (-23.547778, -46.635833)),\n",
    "]\n",
    "\n",
    "print(f'{\"\":15} | {\"latitude\":>9} | {\"longitude\":>9}')\n",
    "for record in metro_areas:\n",
    "    match record:  # (1)\n",
    "        case [name, _, _, (lat, lon)] if lon <= 0:  # (2)\n",
    "            print(f'{name:15} | {lat:9.4f} | {lon:9.4f}')"
   ]
  },
  {
   "cell_type": "markdown",
   "id": "2b17a518-a6db-42c2-bd90-919533626505",
   "metadata": {},
   "source": [
    "### Exemplo: interpretador lis.py\n",
    "\n",
    "[código-fonte](https://github.com/lispylab/pybr24/blob/52d15b411ae212ea2afe2c00eac77f30b2928965/lis.py#L151)"
   ]
  },
  {
   "cell_type": "markdown",
   "id": "3b6389e4-af6c-4680-a016-6bfba59a2786",
   "metadata": {},
   "source": [
    "## Surpresa 0: Delimitadores [] e () são equivalentes\n",
    "\n",
    "Os padrões `[a, (b, c)]` e `(a, [b, c])` são equivalentes.\n",
    "\n",
    "Na sintaxe de padrões sequências podem ser expressas com `[]` ou `()`. Tanto faz.\n",
    "\n",
    "## Surpresa 1: Tratamento diferente para certas sequências\n",
    "\n",
    "O `case` não desestrutura sequências `str`, `bytes` e `bytearray`.\n",
    "Concretamente: não é possível obter um caractere específico de uma `str` em um `case`.\n",
    "\n",
    "A regra é: podem ser desestruturadas instâncias de sub-classes de `collections.Sequence`, exceto `str`, `bytes`, e `bytearray`.\n",
    "\n",
    "Tipos sequência da biblioteca padrão que pode ser desestruturadas com `match/case`:\n",
    "\n",
    "```\n",
    "list     memoryview    array.array\n",
    "tuple    range         collections.deque\n",
    "```\n",
    "\n",
    "\n",
    "## Surpresa 2: Uso de variáveis\n",
    "\n",
    "Variáveis como `x` em `int(x)` podem ser criadas e atribuídas em cada `case`, assim como `for i in range(9):` cria e atribui valor a `i`.\n",
    "\n",
    "Se você precisa que parte de um padrão seja um valor esperado porém variável, é obrigatório usar um identificador com ponto (*dotted name*), como `Cores.VERMELHO`. Se usar apenas `VERMELHO`, o identificador será considerado uma variável a ser atribuída se o padrão casar."
   ]
  },
  {
   "cell_type": "code",
   "execution_count": 3,
   "id": "6e058f3b-73fb-4777-aafd-c897c0e6db26",
   "metadata": {},
   "outputs": [
    {
     "name": "stdout",
     "output_type": "stream",
     "text": [
      "caso 1: [<Cores.VERDE: 2>]\n"
     ]
    }
   ],
   "source": [
    "from enum import Enum\n",
    "\n",
    "VERMELHO = '#F00'\n",
    "\n",
    "class Cores(Enum):\n",
    "    VERMELHO = 1\n",
    "    VERDE = 2\n",
    "    AZUL = 3\n",
    "\n",
    "sujeito = [Cores.VERDE]\n",
    "\n",
    "match sujeito:\n",
    "    case [VERMELHO]:\n",
    "        print(f'caso 1: {sujeito}')\n",
    "    case [Cores.VERDE]:\n",
    "        print(f'caso 2: {sujeito}')"
   ]
  },
  {
   "cell_type": "markdown",
   "id": "c420a466-09a4-44e0-8dfb-0aed4bed17f0",
   "metadata": {},
   "source": [
    "## Surpresa 3: casamento parcial em sequências, mapeamentos e instâncias\n",
    "\n",
    "Sequências sempre são comparadas por inteiro. Para casar com itens sobrando, use `*resto` ou `*_`.\n",
    "\n",
    "Mapeamentos são comparados somente pelas chaves informadas.\n",
    "Para corresponder, o sujeito deve casar todas as chaves que aparecem no padrão.\n",
    "Chaves sobrando no sujeito são irrelevantes.\n",
    "\n",
    "Para instâncias com atributos posicionais ou nomeados, vale a mesma ideia dos mapeamentos:\n",
    "Para corresponder, o sujeito deve casar todos os atributos que aparecem no padrão.\n",
    "Atributos sobrando no sujeito são irrelevantes.\n",
    "\n",
    "\n",
    "## Surpresa 4: `int(x)` não é o que parece\n",
    "\n",
    "`int(x)` não significa converter `x` em `int`, mas sim verificar que `x` é uma instância de `int`.\n",
    "\n",
    "Na sintaxe de um padrão, `f(x)` não significa `f.__call__(x)`.\n",
    "\n",
    "Além disso, a atribuição a `x` segue três regras diferentes!\n",
    "\n",
    "### Regra 1: instâncias capturadas como um todo\n",
    "\n",
    "Para esses tipos **abençoados**, a variável engloba o objeto inteiro, e não apenas um atributo:\n",
    "\n",
    "```\n",
    "bool   bytearray   bytes   dict   float   frozenset   int   list   set   str   tuple\n",
    "```\n",
    "\n",
    "### Regra 2: instâncias desestruturadas por variáveis posicionais\n",
    "Se a classe contém um atributo `__match_args__`, ela suporta padrões com argumentos posicionais.\n",
    "\n",
    "O valor de `__match_args__` define quais atributos são casados por posição, e em qual ordem.\n",
    "\n",
    "As fábricas de classes `collections.namedtuple`, `typing.NamedTuple`, e `@dataclasses.dataclass`\n",
    "criam o `__match_args__` automaticamente:\n"
   ]
  },
  {
   "cell_type": "code",
   "execution_count": 4,
   "id": "1500b252-cfc2-435a-ae1b-69abf44548ec",
   "metadata": {},
   "outputs": [
    {
     "data": {
      "text/plain": [
       "('lat', 'lon')"
      ]
     },
     "execution_count": 4,
     "metadata": {},
     "output_type": "execute_result"
    }
   ],
   "source": [
    "from typing import NamedTuple\n",
    "\n",
    "class Coordenada(NamedTuple):\n",
    "    lat: float\n",
    "    lon: float\n",
    "\n",
    "Coordenada.__match_args__ "
   ]
  },
  {
   "cell_type": "code",
   "execution_count": 5,
   "id": "39c35cc4-015e-4175-925c-54d66b39cfe2",
   "metadata": {},
   "outputs": [
    {
     "name": "stdout",
     "output_type": "stream",
     "text": [
      "-46.6 -23.6\n"
     ]
    }
   ],
   "source": [
    "sp = Coordenada(-23.6, -46.6)\n",
    "\n",
    "match sp:\n",
    "    case Coordenada(lat=y, lon=x):\n",
    "        print(x, y)"
   ]
  },
  {
   "cell_type": "markdown",
   "id": "119d9e49-7c2a-42d1-b868-82ef61750f42",
   "metadata": {},
   "source": [
    "Em classes feitas na unha, você cria o `__match_args__` se quiser a conveniência de escrever\n",
    "padrões com argumentos posicionais:"
   ]
  },
  {
   "cell_type": "code",
   "execution_count": 6,
   "id": "6cc0d61b-941c-4d57-8cde-1990786390cc",
   "metadata": {},
   "outputs": [
    {
     "name": "stdout",
     "output_type": "stream",
     "text": [
      "Fido 7.5\n"
     ]
    }
   ],
   "source": [
    "from typing import NamedTuple\n",
    "\n",
    "class Pet:\n",
    "    nome: str\n",
    "    peso: float\n",
    "    __match_args__ = 'nome', 'peso'\n",
    "\n",
    "    def __init__(self, nome, peso):\n",
    "        self.nome = nome\n",
    "        self.peso = peso\n",
    "\n",
    "fido = Pet('Fido', 7.5)\n",
    "\n",
    "match fido:\n",
    "    case Pet(x, y):\n",
    "        print(x, y)"
   ]
  },
  {
   "cell_type": "markdown",
   "id": "39382023-b29b-47d9-9d00-19e81ec2b02c",
   "metadata": {},
   "source": [
    "### Regra #3: instâncias desestruturadas por variáveis nomeadas\n",
    "\n",
    "Quando não é **abençoada** (Regra #1), nem tem `__match_args__` (Regra #2),\n",
    "o tipo pode ser desestruturado usando a sintaxe de argumentos nomeados\n",
    "para acessar os atributos do tipo.\n"
   ]
  },
  {
   "cell_type": "code",
   "execution_count": 7,
   "id": "78f60d8e-2396-4ef7-aba6-d92c489a4832",
   "metadata": {},
   "outputs": [
    {
     "name": "stdout",
     "output_type": "stream",
     "text": [
      "Fido 7.5\n"
     ]
    }
   ],
   "source": [
    "match fido:\n",
    "    case Pet(nome=n, peso=p):\n",
    "        print(n, p)"
   ]
  },
  {
   "cell_type": "markdown",
   "id": "14f2e826-6005-4b12-8195-9e3ebbf656dd",
   "metadata": {},
   "source": [
    "### Resumo: os 3 sentidos de `c(x)`"
   ]
  },
  {
   "cell_type": "code",
   "execution_count": 8,
   "id": "3124403f-4585-42f8-a914-b4c60b248141",
   "metadata": {},
   "outputs": [
    {
     "name": "stdout",
     "output_type": "stream",
     "text": [
      "Regra #1: oxente\n",
      "\tx='oxente'\n",
      "Regra #2: Coordenada(lat=23, lon=46)\n",
      "\tx=23\n",
      "Regra #3: (3.3+4.4j)\n",
      "\tx=3.3\n"
     ]
    }
   ],
   "source": [
    "def analisar(sujeito):\n",
    "    match sujeito:\n",
    "        case str(x): # qualquer string, x captura a string toda\n",
    "            print(f'Regra #1: {sujeito}\\n\\t{x=}')\n",
    "        case Coordenada(x):  # qualquer Coordenada, x captura o atributo `lat` por posição\n",
    "            print(f'Regra #2: {sujeito}\\n\\t{x=}')\n",
    "        case complex(real=x):  # qualquer complexo, x captura o atributo `real` por nome\n",
    "            print(f'Regra #3: {sujeito}\\n\\t{x=}')\n",
    "\n",
    "for sujeito in [\n",
    "    'oxente',\n",
    "    Coordenada(23, 46),\n",
    "    3.3+4.4j\n",
    "]:\n",
    "    analisar(sujeito)\n",
    "\n"
   ]
  },
  {
   "cell_type": "markdown",
   "id": "485a0c44-8cc6-4700-abfa-7e4a4350b8d1",
   "metadata": {},
   "source": [
    "## Surpresa 5: operador `|` não invoca `__or__`\n",
    "\n",
    "Quando usado em `case`, o operador `|` indica um padrão alternativo.\n",
    "\n",
    "Fora desse contexto, a expressão `a | b` sempre invoca `a.__or__(b)`, exceto dentro de um `case`."
   ]
  }
 ],
 "metadata": {
  "kernelspec": {
   "display_name": "Python 3 (ipykernel)",
   "language": "python",
   "name": "python3"
  },
  "language_info": {
   "codemirror_mode": {
    "name": "ipython",
    "version": 3
   },
   "file_extension": ".py",
   "mimetype": "text/x-python",
   "name": "python",
   "nbconvert_exporter": "python",
   "pygments_lexer": "ipython3",
   "version": "3.12.2"
  }
 },
 "nbformat": 4,
 "nbformat_minor": 5
}
